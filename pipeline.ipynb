{
 "cells": [
  {
   "cell_type": "markdown",
   "id": "ad526814",
   "metadata": {},
   "source": [
    "# Machine Learning Assignment Project: Taxi Duration in New York City Prediction - A Comprehensive Analysis with Machine Learning Techniques"
   ]
  },
  {
   "cell_type": "code",
   "execution_count": 2,
   "id": "68c82d05",
   "metadata": {},
   "outputs": [],
   "source": [
    "# Import libraries\n",
    "import os, shutil\n",
    "import zipfile\n",
    "import numpy as np\n",
    "import pandas as pd\n",
    "import matplotlib.pyplot as plt\n",
    "import seaborn as sns\n",
    "\n",
    "from sklearn.model_selection import train_test_split\n",
    "from sklearn.preprocessing import StandardScaler, OneHotEncoder, LabelEncoder\n",
    "from sklearn.impute import SimpleImputer"
   ]
  },
  {
   "cell_type": "markdown",
   "id": "48395bf8",
   "metadata": {},
   "source": [
    "## Import dataset"
   ]
  },
  {
   "cell_type": "code",
   "execution_count": 15,
   "id": "5204f99a",
   "metadata": {},
   "outputs": [
    {
     "name": "stdout",
     "output_type": "stream",
     "text": [
      "Kaggle API 1.7.4.5\n"
     ]
    }
   ],
   "source": [
    "# Check kaggle if it's available\n",
    "!kaggle --version"
   ]
  },
  {
   "cell_type": "markdown",
   "id": "dbd6787d",
   "metadata": {},
   "source": [
    "### Download dataset from kaggle"
   ]
  },
  {
   "cell_type": "code",
   "execution_count": null,
   "id": "12852a5f",
   "metadata": {},
   "outputs": [
    {
     "name": "stdout",
     "output_type": "stream",
     "text": [
      "Downloading nyc-taxi-trip-duration.zip to ./data\n",
      " 78%|██████████████████████████████▍        | 67.0M/85.8M [00:00<00:00, 232MB/s]\n",
      "100%|███████████████████████████████████████| 85.8M/85.8M [00:00<00:00, 228MB/s]\n"
     ]
    }
   ],
   "source": [
    "#!kaggle competitions download -c nyc-taxi-trip-duration -p ./data"
   ]
  },
  {
   "cell_type": "markdown",
   "id": "898643da",
   "metadata": {},
   "source": [
    "### Unzip files"
   ]
  },
  {
   "cell_type": "code",
   "execution_count": 18,
   "id": "7ef64831",
   "metadata": {},
   "outputs": [],
   "source": [
    "# Unzip the downloaded file\n",
    "def unzip_file(zip_src, dst_dir, delete=False):\n",
    "    if os.path.exists(zip_src) and zip_src.endswith(\".zip\"):\n",
    "        with zipfile.ZipFile(zip_src, 'r') as zf:\n",
    "            zf.extractall(dst_dir)\n",
    "    else:\n",
    "        print(f\"The address of file is {zip_src}, which isn't support upzipping.\")\n",
    "        return\n",
    "        \n",
    "    # remove the zip file after extraction\n",
    "    if delete:\n",
    "        os.remove(zip_src)\n",
    "        print(f\"Deleted: {zip_src}\")"
   ]
  },
  {
   "cell_type": "markdown",
   "id": "543b516e",
   "metadata": {},
   "source": [
    "#### Unzipping parent directory"
   ]
  },
  {
   "cell_type": "code",
   "execution_count": 19,
   "id": "28a7601f",
   "metadata": {},
   "outputs": [
    {
     "name": "stdout",
     "output_type": "stream",
     "text": [
      "Deleted: ./data/nyc-taxi-trip-duration.zip\n",
      "sample_submission.zip  test.zip  titanic_old  train.zip\n"
     ]
    }
   ],
   "source": [
    "data_dir = \"./data\"\n",
    "zip_name = \"nyc-taxi-trip-duration.zip\" \n",
    "unzip_file(os.path.join(data_dir, zip_name), data_dir, True)\n",
    "!ls ./data"
   ]
  },
  {
   "cell_type": "markdown",
   "id": "2d497495",
   "metadata": {},
   "source": [
    "#### Unzipping main files"
   ]
  },
  {
   "cell_type": "code",
   "execution_count": 20,
   "id": "f9d76894",
   "metadata": {},
   "outputs": [
    {
     "name": "stdout",
     "output_type": "stream",
     "text": [
      "Deleted: ./data/test.zip\n",
      "Deleted: ./data/train.zip\n"
     ]
    }
   ],
   "source": [
    "for filename in os.listdir(data_dir):\n",
    "    file_path = os.path.join(data_dir, filename)\n",
    "    if os.path.isfile(file_path) and filename.endswith(\".zip\") and filename != \"sample_submission.zip\":\n",
    "        unzip_file(file_path, data_dir, delete=True)"
   ]
  },
  {
   "cell_type": "code",
   "execution_count": 21,
   "id": "6e340efa",
   "metadata": {},
   "outputs": [
    {
     "name": "stdout",
     "output_type": "stream",
     "text": [
      "sample_submission.zip  test.csv  titanic_old  train.csv\n"
     ]
    }
   ],
   "source": [
    "!ls ./data"
   ]
  },
  {
   "cell_type": "markdown",
   "id": "4ece40c8",
   "metadata": {},
   "source": [
    "### Load dataset into DataFrame"
   ]
  },
  {
   "cell_type": "code",
   "execution_count": 22,
   "id": "0744342a",
   "metadata": {},
   "outputs": [
    {
     "name": "stdout",
     "output_type": "stream",
     "text": [
      "(1458644, 11)\n",
      "<class 'pandas.core.frame.DataFrame'>\n",
      "RangeIndex: 1458644 entries, 0 to 1458643\n",
      "Data columns (total 11 columns):\n",
      " #   Column              Non-Null Count    Dtype  \n",
      "---  ------              --------------    -----  \n",
      " 0   id                  1458644 non-null  object \n",
      " 1   vendor_id           1458644 non-null  int64  \n",
      " 2   pickup_datetime     1458644 non-null  object \n",
      " 3   dropoff_datetime    1458644 non-null  object \n",
      " 4   passenger_count     1458644 non-null  int64  \n",
      " 5   pickup_longitude    1458644 non-null  float64\n",
      " 6   pickup_latitude     1458644 non-null  float64\n",
      " 7   dropoff_longitude   1458644 non-null  float64\n",
      " 8   dropoff_latitude    1458644 non-null  float64\n",
      " 9   store_and_fwd_flag  1458644 non-null  object \n",
      " 10  trip_duration       1458644 non-null  int64  \n",
      "dtypes: float64(4), int64(3), object(4)\n",
      "memory usage: 122.4+ MB\n",
      "None\n",
      "id                    0\n",
      "vendor_id             0\n",
      "pickup_datetime       0\n",
      "dropoff_datetime      0\n",
      "passenger_count       0\n",
      "pickup_longitude      0\n",
      "pickup_latitude       0\n",
      "dropoff_longitude     0\n",
      "dropoff_latitude      0\n",
      "store_and_fwd_flag    0\n",
      "trip_duration         0\n",
      "dtype: int64\n"
     ]
    },
    {
     "data": {
      "text/html": [
       "<div>\n",
       "<style scoped>\n",
       "    .dataframe tbody tr th:only-of-type {\n",
       "        vertical-align: middle;\n",
       "    }\n",
       "\n",
       "    .dataframe tbody tr th {\n",
       "        vertical-align: top;\n",
       "    }\n",
       "\n",
       "    .dataframe thead th {\n",
       "        text-align: right;\n",
       "    }\n",
       "</style>\n",
       "<table border=\"1\" class=\"dataframe\">\n",
       "  <thead>\n",
       "    <tr style=\"text-align: right;\">\n",
       "      <th></th>\n",
       "      <th>id</th>\n",
       "      <th>vendor_id</th>\n",
       "      <th>pickup_datetime</th>\n",
       "      <th>dropoff_datetime</th>\n",
       "      <th>passenger_count</th>\n",
       "      <th>pickup_longitude</th>\n",
       "      <th>pickup_latitude</th>\n",
       "      <th>dropoff_longitude</th>\n",
       "      <th>dropoff_latitude</th>\n",
       "      <th>store_and_fwd_flag</th>\n",
       "      <th>trip_duration</th>\n",
       "    </tr>\n",
       "  </thead>\n",
       "  <tbody>\n",
       "    <tr>\n",
       "      <th>0</th>\n",
       "      <td>id2875421</td>\n",
       "      <td>2</td>\n",
       "      <td>2016-03-14 17:24:55</td>\n",
       "      <td>2016-03-14 17:32:30</td>\n",
       "      <td>1</td>\n",
       "      <td>-73.982155</td>\n",
       "      <td>40.767937</td>\n",
       "      <td>-73.964630</td>\n",
       "      <td>40.765602</td>\n",
       "      <td>N</td>\n",
       "      <td>455</td>\n",
       "    </tr>\n",
       "    <tr>\n",
       "      <th>1</th>\n",
       "      <td>id2377394</td>\n",
       "      <td>1</td>\n",
       "      <td>2016-06-12 00:43:35</td>\n",
       "      <td>2016-06-12 00:54:38</td>\n",
       "      <td>1</td>\n",
       "      <td>-73.980415</td>\n",
       "      <td>40.738564</td>\n",
       "      <td>-73.999481</td>\n",
       "      <td>40.731152</td>\n",
       "      <td>N</td>\n",
       "      <td>663</td>\n",
       "    </tr>\n",
       "    <tr>\n",
       "      <th>2</th>\n",
       "      <td>id3858529</td>\n",
       "      <td>2</td>\n",
       "      <td>2016-01-19 11:35:24</td>\n",
       "      <td>2016-01-19 12:10:48</td>\n",
       "      <td>1</td>\n",
       "      <td>-73.979027</td>\n",
       "      <td>40.763939</td>\n",
       "      <td>-74.005333</td>\n",
       "      <td>40.710087</td>\n",
       "      <td>N</td>\n",
       "      <td>2124</td>\n",
       "    </tr>\n",
       "    <tr>\n",
       "      <th>3</th>\n",
       "      <td>id3504673</td>\n",
       "      <td>2</td>\n",
       "      <td>2016-04-06 19:32:31</td>\n",
       "      <td>2016-04-06 19:39:40</td>\n",
       "      <td>1</td>\n",
       "      <td>-74.010040</td>\n",
       "      <td>40.719971</td>\n",
       "      <td>-74.012268</td>\n",
       "      <td>40.706718</td>\n",
       "      <td>N</td>\n",
       "      <td>429</td>\n",
       "    </tr>\n",
       "    <tr>\n",
       "      <th>4</th>\n",
       "      <td>id2181028</td>\n",
       "      <td>2</td>\n",
       "      <td>2016-03-26 13:30:55</td>\n",
       "      <td>2016-03-26 13:38:10</td>\n",
       "      <td>1</td>\n",
       "      <td>-73.973053</td>\n",
       "      <td>40.793209</td>\n",
       "      <td>-73.972923</td>\n",
       "      <td>40.782520</td>\n",
       "      <td>N</td>\n",
       "      <td>435</td>\n",
       "    </tr>\n",
       "  </tbody>\n",
       "</table>\n",
       "</div>"
      ],
      "text/plain": [
       "          id  vendor_id      pickup_datetime     dropoff_datetime  \\\n",
       "0  id2875421          2  2016-03-14 17:24:55  2016-03-14 17:32:30   \n",
       "1  id2377394          1  2016-06-12 00:43:35  2016-06-12 00:54:38   \n",
       "2  id3858529          2  2016-01-19 11:35:24  2016-01-19 12:10:48   \n",
       "3  id3504673          2  2016-04-06 19:32:31  2016-04-06 19:39:40   \n",
       "4  id2181028          2  2016-03-26 13:30:55  2016-03-26 13:38:10   \n",
       "\n",
       "   passenger_count  pickup_longitude  pickup_latitude  dropoff_longitude  \\\n",
       "0                1        -73.982155        40.767937         -73.964630   \n",
       "1                1        -73.980415        40.738564         -73.999481   \n",
       "2                1        -73.979027        40.763939         -74.005333   \n",
       "3                1        -74.010040        40.719971         -74.012268   \n",
       "4                1        -73.973053        40.793209         -73.972923   \n",
       "\n",
       "   dropoff_latitude store_and_fwd_flag  trip_duration  \n",
       "0         40.765602                  N            455  \n",
       "1         40.731152                  N            663  \n",
       "2         40.710087                  N           2124  \n",
       "3         40.706718                  N            429  \n",
       "4         40.782520                  N            435  "
      ]
     },
     "execution_count": 22,
     "metadata": {},
     "output_type": "execute_result"
    }
   ],
   "source": [
    "df = pd.read_csv(\"./data/train.csv\")\n",
    "\n",
    "print(df.shape)\n",
    "print(df.info())\n",
    "print(df.isnull().sum())\n",
    "df.head(5)"
   ]
  },
  {
   "cell_type": "code",
   "execution_count": 23,
   "id": "52c15e4f",
   "metadata": {},
   "outputs": [
    {
     "data": {
      "image/png": "[encoded data removed]",
      "text/plain": [
       "<Figure size 1000x600 with 2 Axes>"
      ]
     },
     "metadata": {},
     "output_type": "display_data"
    }
   ],
   "source": [
    "# Visualize missing data\n",
    "plt.figure(figsize=(10, 6))\n",
    "sns.heatmap(df.isnull(), yticklabels=False, cbar=True, cmap='viridis')\n",
    "plt.title('Missing Data Heatmap')\n",
    "plt.show()"
   ]
  },
  {
   "cell_type": "markdown",
   "id": "fdd0b4aa",
   "metadata": {},
   "source": [
    "Our dataset isn't contain any null values, so we can proceed with our analysis."
   ]
  },
  {
   "cell_type": "markdown",
   "id": "d9053ef9",
   "metadata": {},
   "source": [
    "## Preprocessing data"
   ]
  },
  {
   "cell_type": "markdown",
   "id": "4980619b",
   "metadata": {},
   "source": [
    "### Define the haversine distance function"
   ]
  },
  {
   "cell_type": "code",
   "execution_count": 26,
   "id": "e6ea81db",
   "metadata": {},
   "outputs": [],
   "source": [
    "def haversine_distance(lat1, lon1, lat2, lon2):\n",
    "    R = 6378.137  # The earth's radius in kilometres\n",
    "    dLat = np.radians(lat2 - lat1)\n",
    "    dLon = np.radians(lon2 - lon1)\n",
    "    lat1 = np.radians(lat1)\n",
    "    lat2 = np.radians(lat2)\n",
    "    a = np.sin(dLat/2)**2 + np.cos(lat1) * np.cos(lat2) * np.sin(dLon/2)**2\n",
    "    c = 2 * np.arctan2(np.sqrt(a), np.sqrt(1-a))\n",
    "    distance = R * c\n",
    "    return distance"
   ]
  },
  {
   "cell_type": "markdown",
   "id": "1f027f24",
   "metadata": {},
   "source": [
    "### Preprocessing function"
   ]
  },
  {
   "cell_type": "code",
   "execution_count": 27,
   "id": "91e6d4a7",
   "metadata": {},
   "outputs": [],
   "source": [
    "def preprocessing(df: pd.DataFrame, scale=True, random_state=42) -> tuple:\n",
    "    print(\"Starting preprocessing data...\")\n",
    "    \n",
    "    # Processing time type data\n",
    "    df['pickup_datetime'] = pd.to_datetime(df['pickup_datetime']).dt.tz_localize('UTC').dt.tz_convert('US/Eastern')\n",
    "    df['pickup_hour'] = df['pickup_datetime'].dt.hour\n",
    "    df['pickup_dayofweek'] = df['pickup_datetime'].dt.dayofweek\n",
    "    df['pickup_month'] = df['pickup_datetime'].dt.month\n",
    "\n",
    "    \n",
    "    # Geospatial feature engineering\n",
    "    df['distance_km'] = haversine_distance(\n",
    "        df['pickup_latitude'], df['pickup_longitude'],\n",
    "        df['dropoff_latitude'], df['dropoff_longitude']\n",
    "    )\n",
    "    # Basic data cleaning and outlier removal\n",
    "    df = df[\n",
    "        (df['trip_duration'] > 60) & (df['trip_duration'] < 7200) &  # valid trip time\n",
    "        (df['passenger_count'] > 0) &                                # at least 1 passenger\n",
    "        (df['pickup_latitude'].between(40.5, 41.0)) &                # within NYC bounds\n",
    "        (df['dropoff_latitude'].between(40.5, 41.0)) &\n",
    "        (df['pickup_longitude'].between(-74.3, -73.6)) &\n",
    "        (df['dropoff_longitude'].between(-74.3, -73.6))\n",
    "    ]\n",
    "\n",
    "    # Target transformation\n",
    "    y = np.log1p(df['trip_duration'])  # log-transform to handle skewness\n",
    "\n",
    "    # Drop unused columns\n",
    "    X = df.drop(columns=['id', 'pickup_datetime', 'dropoff_datetime', 'trip_duration'])\n",
    "\n",
    "    # Encode categorical features\n",
    "    X['store_and_fwd_flag'] = X['store_and_fwd_flag'].map({'N': 0, 'Y': 1})\n",
    "\n",
    "    # Split dataset into train, test, val sets with the ratio: ()\n",
    "    X_train, X_temp, y_train, y_temp = train_test_split(X, y, test_size=0.2, random_state=random_state)\n",
    "    X_val, X_test, y_val, y_test = train_test_split(X_temp, y_temp, test_size=0.5, random_state=random_state)\n",
    "\n",
    "    # Feature scaling\n",
    "    scaler = None\n",
    "    if scale:\n",
    "        numerical_cols = [\n",
    "            'vendor_id', 'passenger_count', 'pickup_longitude', 'pickup_latitude',\n",
    "            'dropoff_longitude', 'dropoff_latitude', 'pickup_hour',\n",
    "            'pickup_dayofweek', 'pickup_month', 'distance_km'\n",
    "        ]\n",
    "        scaler = StandardScaler()\n",
    "        X_train[numerical_cols] = scaler.fit_transform(X_train[numerical_cols])\n",
    "        X_val[numerical_cols] = scaler.transform(X_val[numerical_cols])\n",
    "        X_test[numerical_cols] = scaler.transform(X_test[numerical_cols])\n",
    "\n",
    "    print(\"Preprocessing completed.\")\n",
    "    print(f\"Train: {X_train.shape}, Val: {X_val.shape}, Test: {X_test.shape}\")\n",
    "\n",
    "    return X_train, X_val, X_test, y_train, y_val, y_test, scaler"
   ]
  }
 ],
 "metadata": {
  "kernelspec": {
   "display_name": "pytorch_env",
   "language": "python",
   "name": "python3"
  },
  "language_info": {
   "codemirror_mode": {
    "name": "ipython",
    "version": 3
   },
   "file_extension": ".py",
   "mimetype": "text/x-python",
   "name": "python",
   "nbconvert_exporter": "python",
   "pygments_lexer": "ipython3",
   "version": "3.12.11"
  }
 },
 "nbformat": 4,
 "nbformat_minor": 5
}
