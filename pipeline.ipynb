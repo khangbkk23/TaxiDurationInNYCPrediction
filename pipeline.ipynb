{
 "cells": [
  {
   "cell_type": "markdown",
   "id": "ad526814",
   "metadata": {},
   "source": [
    "# Machine Learning Assignment Project: Taxi Duration in New York City Prediction - A Comprehensive Analysis with Machine Learning Techniques"
   ]
  },
  {
   "cell_type": "code",
   "execution_count": 2,
   "id": "68c82d05",
   "metadata": {},
   "outputs": [],
   "source": [
    "# Import libraries\n",
    "import os, shutil\n",
    "import zipfile\n",
    "import numpy as np\n",
    "import pandas as pd\n",
    "import matplotlib.pyplot as plt\n",
    "import seaborn as sns\n",
    "\n",
    "from sklearn.model_selection import train_test_split\n",
    "from sklearn.preprocessing import StandardScaler, OneHotEncoder, LabelEncoder\n",
    "from sklearn.impute import SimpleImputer"
   ]
  },
  {
   "cell_type": "markdown",
   "id": "48395bf8",
   "metadata": {},
   "source": [
    "## Import dataset"
   ]
  },
  {
   "cell_type": "code",
   "execution_count": 15,
   "id": "5204f99a",
   "metadata": {},
   "outputs": [
    {
     "name": "stdout",
     "output_type": "stream",
     "text": [
      "Kaggle API 1.7.4.5\n"
     ]
    }
   ],
   "source": [
    "# Check kaggle if it's available\n",
    "!kaggle --version"
   ]
  },
  {
   "cell_type": "markdown",
   "id": "dbd6787d",
   "metadata": {},
   "source": [
    "### Download dataset from kaggle"
   ]
  },
  {
   "cell_type": "code",
   "execution_count": null,
   "id": "12852a5f",
   "metadata": {},
   "outputs": [
    {
     "name": "stdout",
     "output_type": "stream",
     "text": [
      "Downloading nyc-taxi-trip-duration.zip to ./data\n",
      " 78%|██████████████████████████████▍        | 67.0M/85.8M [00:00<00:00, 232MB/s]\n",
      "100%|███████████████████████████████████████| 85.8M/85.8M [00:00<00:00, 228MB/s]\n"
     ]
    }
   ],
   "source": [
    "#!kaggle competitions download -c nyc-taxi-trip-duration -p ./data"
   ]
  },
  {
   "cell_type": "markdown",
   "id": "898643da",
   "metadata": {},
   "source": [
    "### Unzip files"
   ]
  },
  {
   "cell_type": "code",
   "execution_count": 18,
   "id": "7ef64831",
   "metadata": {},
   "outputs": [],
   "source": [
    "# Unzip the downloaded file\n",
    "def unzip_file(zip_src, dst_dir, delete=False):\n",
    "    if os.path.exists(zip_src) and zip_src.endswith(\".zip\"):\n",
    "        with zipfile.ZipFile(zip_src, 'r') as zf:\n",
    "            zf.extractall(dst_dir)\n",
    "    else:\n",
    "        print(f\"The address of file is {zip_src}, which isn't support upzipping.\")\n",
    "        return\n",
    "        \n",
    "    # remove the zip file after extraction\n",
    "    if delete:\n",
    "        os.remove(zip_src)\n",
    "        print(f\"Deleted: {zip_src}\")"
   ]
  },
  {
   "cell_type": "markdown",
   "id": "543b516e",
   "metadata": {},
   "source": [
    "#### Unzipping parent directory"
   ]
  },
  {
   "cell_type": "code",
   "execution_count": 19,
   "id": "28a7601f",
   "metadata": {},
   "outputs": [
    {
     "name": "stdout",
     "output_type": "stream",
     "text": [
      "Deleted: ./data/nyc-taxi-trip-duration.zip\n",
      "sample_submission.zip  test.zip  titanic_old  train.zip\n"
     ]
    }
   ],
   "source": [
    "data_dir = \"./data\"\n",
    "zip_name = \"nyc-taxi-trip-duration.zip\" \n",
    "unzip_file(os.path.join(data_dir, zip_name), data_dir, True)\n",
    "!ls ./data"
   ]
  },
  {
   "cell_type": "markdown",
   "id": "2d497495",
   "metadata": {},
   "source": [
    "#### Unzipping main files"
   ]
  },
  {
   "cell_type": "code",
   "execution_count": 20,
   "id": "f9d76894",
   "metadata": {},
   "outputs": [
    {
     "name": "stdout",
     "output_type": "stream",
     "text": [
      "Deleted: ./data/test.zip\n",
      "Deleted: ./data/train.zip\n"
     ]
    }
   ],
   "source": [
    "for filename in os.listdir(data_dir):\n",
    "    file_path = os.path.join(data_dir, filename)\n",
    "    if os.path.isfile(file_path) and filename.endswith(\".zip\") and filename != \"sample_submission.zip\":\n",
    "        unzip_file(file_path, data_dir, delete=True)"
   ]
  },
  {
   "cell_type": "code",
   "execution_count": 21,
   "id": "6e340efa",
   "metadata": {},
   "outputs": [
    {
     "name": "stdout",
     "output_type": "stream",
     "text": [
      "sample_submission.zip  test.csv  titanic_old  train.csv\n"
     ]
    }
   ],
   "source": [
    "!ls ./data"
   ]
  },
  {
   "cell_type": "markdown",
   "id": "4ece40c8",
   "metadata": {},
   "source": [
    "### Load dataset into DataFrame"
   ]
  },
  {
   "cell_type": "code",
   "execution_count": 22,
   "id": "0744342a",
   "metadata": {},
   "outputs": [
    {
     "name": "stdout",
     "output_type": "stream",
     "text": [
      "(1458644, 11)\n",
      "<class 'pandas.core.frame.DataFrame'>\n",
      "RangeIndex: 1458644 entries, 0 to 1458643\n",
      "Data columns (total 11 columns):\n",
      " #   Column              Non-Null Count    Dtype  \n",
      "---  ------              --------------    -----  \n",
      " 0   id                  1458644 non-null  object \n",
      " 1   vendor_id           1458644 non-null  int64  \n",
      " 2   pickup_datetime     1458644 non-null  object \n",
      " 3   dropoff_datetime    1458644 non-null  object \n",
      " 4   passenger_count     1458644 non-null  int64  \n",
      " 5   pickup_longitude    1458644 non-null  float64\n",
      " 6   pickup_latitude     1458644 non-null  float64\n",
      " 7   dropoff_longitude   1458644 non-null  float64\n",
      " 8   dropoff_latitude    1458644 non-null  float64\n",
      " 9   store_and_fwd_flag  1458644 non-null  object \n",
      " 10  trip_duration       1458644 non-null  int64  \n",
      "dtypes: float64(4), int64(3), object(4)\n",
      "memory usage: 122.4+ MB\n",
      "None\n",
      "id                    0\n",
      "vendor_id             0\n",
      "pickup_datetime       0\n",
      "dropoff_datetime      0\n",
      "passenger_count       0\n",
      "pickup_longitude      0\n",
      "pickup_latitude       0\n",
      "dropoff_longitude     0\n",
      "dropoff_latitude      0\n",
      "store_and_fwd_flag    0\n",
      "trip_duration         0\n",
      "dtype: int64\n"
     ]
    },
    {
     "data": {
      "text/html": [
       "<div>\n",
       "<style scoped>\n",
       "    .dataframe tbody tr th:only-of-type {\n",
       "        vertical-align: middle;\n",
       "    }\n",
       "\n",
       "    .dataframe tbody tr th {\n",
       "        vertical-align: top;\n",
       "    }\n",
       "\n",
       "    .dataframe thead th {\n",
       "        text-align: right;\n",
       "    }\n",
       "</style>\n",
       "<table border=\"1\" class=\"dataframe\">\n",
       "  <thead>\n",
       "    <tr style=\"text-align: right;\">\n",
       "      <th></th>\n",
       "      <th>id</th>\n",
       "      <th>vendor_id</th>\n",
       "      <th>pickup_datetime</th>\n",
       "      <th>dropoff_datetime</th>\n",
       "      <th>passenger_count</th>\n",
       "      <th>pickup_longitude</th>\n",
       "      <th>pickup_latitude</th>\n",
       "      <th>dropoff_longitude</th>\n",
       "      <th>dropoff_latitude</th>\n",
       "      <th>store_and_fwd_flag</th>\n",
       "      <th>trip_duration</th>\n",
       "    </tr>\n",
       "  </thead>\n",
       "  <tbody>\n",
       "    <tr>\n",
       "      <th>0</th>\n",
       "      <td>id2875421</td>\n",
       "      <td>2</td>\n",
       "      <td>2016-03-14 17:24:55</td>\n",
       "      <td>2016-03-14 17:32:30</td>\n",
       "      <td>1</td>\n",
       "      <td>-73.982155</td>\n",
       "      <td>40.767937</td>\n",
       "      <td>-73.964630</td>\n",
       "      <td>40.765602</td>\n",
       "      <td>N</td>\n",
       "      <td>455</td>\n",
       "    </tr>\n",
       "    <tr>\n",
       "      <th>1</th>\n",
       "      <td>id2377394</td>\n",
       "      <td>1</td>\n",
       "      <td>2016-06-12 00:43:35</td>\n",
       "      <td>2016-06-12 00:54:38</td>\n",
       "      <td>1</td>\n",
       "      <td>-73.980415</td>\n",
       "      <td>40.738564</td>\n",
       "      <td>-73.999481</td>\n",
       "      <td>40.731152</td>\n",
       "      <td>N</td>\n",
       "      <td>663</td>\n",
       "    </tr>\n",
       "    <tr>\n",
       "      <th>2</th>\n",
       "      <td>id3858529</td>\n",
       "      <td>2</td>\n",
       "      <td>2016-01-19 11:35:24</td>\n",
       "      <td>2016-01-19 12:10:48</td>\n",
       "      <td>1</td>\n",
       "      <td>-73.979027</td>\n",
       "      <td>40.763939</td>\n",
       "      <td>-74.005333</td>\n",
       "      <td>40.710087</td>\n",
       "      <td>N</td>\n",
       "      <td>2124</td>\n",
       "    </tr>\n",
       "    <tr>\n",
       "      <th>3</th>\n",
       "      <td>id3504673</td>\n",
       "      <td>2</td>\n",
       "      <td>2016-04-06 19:32:31</td>\n",
       "      <td>2016-04-06 19:39:40</td>\n",
       "      <td>1</td>\n",
       "      <td>-74.010040</td>\n",
       "      <td>40.719971</td>\n",
       "      <td>-74.012268</td>\n",
       "      <td>40.706718</td>\n",
       "      <td>N</td>\n",
       "      <td>429</td>\n",
       "    </tr>\n",
       "    <tr>\n",
       "      <th>4</th>\n",
       "      <td>id2181028</td>\n",
       "      <td>2</td>\n",
       "      <td>2016-03-26 13:30:55</td>\n",
       "      <td>2016-03-26 13:38:10</td>\n",
       "      <td>1</td>\n",
       "      <td>-73.973053</td>\n",
       "      <td>40.793209</td>\n",
       "      <td>-73.972923</td>\n",
       "      <td>40.782520</td>\n",
       "      <td>N</td>\n",
       "      <td>435</td>\n",
       "    </tr>\n",
       "  </tbody>\n",
       "</table>\n",
       "</div>"
      ],
      "text/plain": [
       "          id  vendor_id      pickup_datetime     dropoff_datetime  \\\n",
       "0  id2875421          2  2016-03-14 17:24:55  2016-03-14 17:32:30   \n",
       "1  id2377394          1  2016-06-12 00:43:35  2016-06-12 00:54:38   \n",
       "2  id3858529          2  2016-01-19 11:35:24  2016-01-19 12:10:48   \n",
       "3  id3504673          2  2016-04-06 19:32:31  2016-04-06 19:39:40   \n",
       "4  id2181028          2  2016-03-26 13:30:55  2016-03-26 13:38:10   \n",
       "\n",
       "   passenger_count  pickup_longitude  pickup_latitude  dropoff_longitude  \\\n",
       "0                1        -73.982155        40.767937         -73.964630   \n",
       "1                1        -73.980415        40.738564         -73.999481   \n",
       "2                1        -73.979027        40.763939         -74.005333   \n",
       "3                1        -74.010040        40.719971         -74.012268   \n",
       "4                1        -73.973053        40.793209         -73.972923   \n",
       "\n",
       "   dropoff_latitude store_and_fwd_flag  trip_duration  \n",
       "0         40.765602                  N            455  \n",
       "1         40.731152                  N            663  \n",
       "2         40.710087                  N           2124  \n",
       "3         40.706718                  N            429  \n",
       "4         40.782520                  N            435  "
      ]
     },
     "execution_count": 22,
     "metadata": {},
     "output_type": "execute_result"
    }
   ],
   "source": [
    "df = pd.read_csv(\"./data/train.csv\")\n",
    "\n",
    "print(df.shape)\n",
    "print(df.info())\n",
    "print(df.isnull().sum())\n",
    "df.head(5)"
   ]
  },
  {
   "cell_type": "code",
   "execution_count": 23,
   "id": "52c15e4f",
   "metadata": {},
   "outputs": [
    {
     "data": {
      "image/png": "[encoded data removed]",
      "text/plain": [
       "<Figure size 1000x600 with 2 Axes>"
      ]
     },
     "metadata": {},
     "output_type": "display_data"
    }
   ],
   "source": [
    "# Visualize missing data\n",
    "plt.figure(figsize=(10, 6))\n",
    "sns.heatmap(df.isnull(), yticklabels=False, cbar=True, cmap='viridis')\n",
    "plt.title('Missing Data Heatmap')\n",
    "plt.show()"
   ]
  },
  {
   "cell_type": "markdown",
   "id": "fdd0b4aa",
   "metadata": {},
   "source": [
    "Our dataset isn't contain any null values, so we can proceed with our analysis."
   ]
  },
  {
   "cell_type": "markdown",
   "id": "d9053ef9",
   "metadata": {},
   "source": [
    "## Preprocessing data"
   ]
  },
  {
   "cell_type": "markdown",
   "id": "4980619b",
   "metadata": {},
   "source": [
    "### Define the haversine distance function"
   ]
  },
  {
   "cell_type": "code",
   "execution_count": null,
   "id": "e6ea81db",
   "metadata": {},
   "outputs": [],
   "source": [
    "def haversine_distance(lat1, lon1, lat2, lon2):\n",
    "    R = 6378.137 # Earth radius in kilometres\n",
    "    lat1, lon1, lat2, lon2 = map(np.radians, [lat1, lon1, lat2, lon2])\n",
    "    dlat = lat2 - lat1\n",
    "    dlon = lon2 - lon1\n",
    "    a = np.sin(dlat / 2.0)**2 + np.cos(lat1) * np.cos(lat2) * np.sin(dlon / 2.0)**2\n",
    "    return R * (2 * np.arctan2(np.sqrt(a), np.sqrt(1 - a)))"
   ]
  },
  {
   "cell_type": "code",
   "execution_count": 33,
   "id": "820cf576",
   "metadata": {},
   "outputs": [],
   "source": [
    "def distance(df: pd.DataFrame) -> pd.DataFrame:\n",
    "    \"\"\"\n",
    "    Add Haversine distance (km) between pickup and dropoff to the DataFrame.\n",
    "    \"\"\"\n",
    "    df['distance_km'] = haversine_distance(\n",
    "        df['pickup_latitude'], df['pickup_longitude'],\n",
    "        df['dropoff_latitude'], df['dropoff_longitude']\n",
    "    )\n",
    "\n",
    "    return df"
   ]
  },
  {
   "cell_type": "markdown",
   "id": "6b7f4b2b",
   "metadata": {},
   "source": [
    "### Define feature engineering functions"
   ]
  },
  {
   "cell_type": "code",
   "execution_count": 37,
   "id": "def0420f",
   "metadata": {},
   "outputs": [],
   "source": [
    "def feature_engineering(df):\n",
    "    \"\"\"Enhanced feature engineering with time, distance, and geospatial insights\"\"\"\n",
    "    df = df.copy()\n",
    "\n",
    "    # Time\n",
    "    pickup_datetime = pd.to_datetime(df['pickup_datetime'])\n",
    "    df['pickup_year'] = pickup_datetime.dt.year\n",
    "    df['pickup_month'] = pickup_datetime.dt.month\n",
    "    df['pickup_day'] = pickup_datetime.dt.day\n",
    "    df['pickup_hour'] = pickup_datetime.dt.hour\n",
    "    df['pickup_minute'] = pickup_datetime.dt.minute\n",
    "    df['pickup_weekday'] = pickup_datetime.dt.weekday\n",
    "    df['pickup_yday'] = pickup_datetime.dt.dayofyear\n",
    "    df['pickup_weekend'] = (pickup_datetime.dt.weekday >= 5).astype(int)\n",
    "\n",
    "    # Time category\n",
    "    df['is_rush_hour'] = (((df['pickup_hour'] >= 7) & (df['pickup_hour'] <= 9)) |\n",
    "                          ((df['pickup_hour'] >= 17) & (df['pickup_hour'] <= 19))).astype(int)\n",
    "    df['is_night'] = ((df['pickup_hour'] >= 22) | (df['pickup_hour'] <= 5)).astype(int)\n",
    "\n",
    "    # Calculate the distance with Haversine fomula\n",
    "    df['distance_km'] = haversine_distance(\n",
    "        df['pickup_latitude'], df['pickup_longitude'],\n",
    "        df['dropoff_latitude'], df['dropoff_longitude']\n",
    "    )\n",
    "\n",
    "    df['direction'] = np.degrees(np.arctan2(\n",
    "        (df['dropoff_latitude'] - df['pickup_latitude']),\n",
    "        (df['dropoff_longitude'] - df['pickup_longitude'])\n",
    "    ))\n",
    "\n",
    "    # Center coordinates\n",
    "    df['center_latitude'] = (df['pickup_latitude'] + df['dropoff_latitude']) / 2\n",
    "    df['center_longitude'] = (df['pickup_longitude'] + df['dropoff_longitude']) / 2\n",
    "\n",
    "    # Binary categorical\n",
    "    df['store_and_fwd_flag'] = (df['store_and_fwd_flag'] == 'Y').astype(int)\n",
    "\n",
    "    return df\n"
   ]
  },
  {
   "cell_type": "markdown",
   "id": "5957c8d6",
   "metadata": {},
   "source": [
    "### Clean data formatting and outlier removal"
   ]
  },
  {
   "cell_type": "code",
   "execution_count": 38,
   "id": "91a9172c",
   "metadata": {},
   "outputs": [],
   "source": [
    "def clean_data(df):\n",
    "    df = df.copy()\n",
    "\n",
    "    print(f\"Initial shape: {df.shape}\")\n",
    "\n",
    "    if 'trip_duration' in df.columns:\n",
    "        df = df[(df['trip_duration'] > 30) & (df['trip_duration'] < 3600 * 6)]\n",
    "        print(f\"After duration filter: {df.shape}\")\n",
    "\n",
    "    # Remove zero-distance trips\n",
    "    df = df[df['distance_euclidean'] > 0]\n",
    "    print(f\"After distance filter: {df.shape}\")\n",
    "\n",
    "    # Geographic bounding box\n",
    "    bounds = {'min_lat': 40.5, 'max_lat': 41.0, 'min_lon': -74.3, 'max_lon': -73.7}\n",
    "    df = df[\n",
    "        (df['pickup_latitude'].between(bounds['min_lat'], bounds['max_lat'])) &\n",
    "        (df['pickup_longitude'].between(bounds['min_lon'], bounds['max_lon'])) &\n",
    "        (df['dropoff_latitude'].between(bounds['min_lat'], bounds['max_lat'])) &\n",
    "        (df['dropoff_longitude'].between(bounds['min_lon'], bounds['max_lon']))\n",
    "    ]\n",
    "\n",
    "    print(f\"After geographic filter: {df.shape}\")\n",
    "    return df"
   ]
  },
  {
   "cell_type": "markdown",
   "id": "1f027f24",
   "metadata": {},
   "source": [
    "### Preprocessing function"
   ]
  },
  {
   "cell_type": "code",
   "execution_count": 41,
   "id": "91e6d4a7",
   "metadata": {},
   "outputs": [],
   "source": [
    "def preprocessing(df: pd.DataFrame, scale=True, random_state=42) -> tuple:\n",
    "    print(\"Starting preprocessing data...\")\n",
    "    \n",
    "    # Geospatial feature engineering\n",
    "    df = feature_engineering(df)\n",
    "    \n",
    "    # Data cleaning\n",
    "    df = clean_data(df)\n",
    "\n",
    "    # Target transformation\n",
    "    y = np.log1p(df['trip_duration'])  # log-transform to handle skewness\n",
    "\n",
    "    # Drop unused columns\n",
    "    drop_cols = ['id', 'pickup_datetime', 'dropoff_datetime', 'trip_duration']\n",
    "    X = df.drop(columns=[c for c in drop_cols if c in df.columns])\n",
    "    \n",
    "\n",
    "    # Split dataset into train, test, val sets with the ratio: ()\n",
    "    X_train, X_temp, y_train, y_temp = train_test_split(X, y, test_size=0.2, random_state=random_state)\n",
    "    X_val, X_test, y_val, y_test = train_test_split(X_temp, y_temp, test_size=0.5, random_state=random_state)\n",
    "\n",
    "    # Feature scaling\n",
    "    scaler = None\n",
    "    if scale:\n",
    "        numerical_cols = [\n",
    "            'vendor_id', 'passenger_count',\n",
    "            'pickup_longitude', 'pickup_latitude',\n",
    "            'dropoff_longitude', 'dropoff_latitude',\n",
    "            'pickup_hour', 'pickup_weekday', 'pickup_month',\n",
    "            'distance_km', 'direction',\n",
    "            'center_latitude', 'center_longitude'\n",
    "        ]\n",
    "\n",
    "        # Only scale columns that exist\n",
    "        numerical_cols = [col for col in numerical_cols if col in X_train.columns]\n",
    "\n",
    "        scaler = StandardScaler()\n",
    "        X_train[numerical_cols] = scaler.fit_transform(X_train[numerical_cols])\n",
    "        X_val[numerical_cols] = scaler.transform(X_val[numerical_cols])\n",
    "        X_test[numerical_cols] = scaler.transform(X_test[numerical_cols])\n",
    "\n",
    "    print(\"Preprocessing completed.\")\n",
    "    print(f\"Train: {X_train.shape}, Val: {X_val.shape}, Test: {X_test.shape}\")\n",
    "\n",
    "    return X_train, X_val, X_test, y_train, y_val, y_test, scaler"
   ]
  },
  {
   "cell_type": "markdown",
   "id": "97c6a956",
   "metadata": {},
   "source": [
    "## Apply preprocessing function to the dataset"
   ]
  },
  {
   "cell_type": "code",
   "execution_count": 28,
   "id": "72187d06",
   "metadata": {},
   "outputs": [
    {
     "name": "stdout",
     "output_type": "stream",
     "text": [
      "Starting preprocessing data...\n",
      "Preprocessing completed.\n",
      "Train: (1157668, 11), Val: (144708, 11), Test: (144709, 11)\n"
     ]
    }
   ],
   "source": [
    "X_train, X_val, X_test, y_train, y_val, y_test, scaler = preprocessing(df)"
   ]
  },
  {
   "cell_type": "code",
   "execution_count": 31,
   "id": "a92f4d01",
   "metadata": {},
   "outputs": [
    {
     "name": "stdout",
     "output_type": "stream",
     "text": [
      "Processed training features:\n",
      "         vendor_id  passenger_count  pickup_longitude  pickup_latitude  \\\n",
      "158935    0.932190        -0.506224          0.481041         0.477538   \n",
      "27534    -1.072742        -0.506224         -0.200879        -0.337214   \n",
      "600497    0.932190        -0.506224         -0.208754         0.474938   \n",
      "328358   -1.072742         0.254378         -0.545777         0.005573   \n",
      "1045697   0.932190        -0.506224         -0.130203         0.406517   \n",
      "\n",
      "         dropoff_longitude  dropoff_latitude  store_and_fwd_flag  pickup_hour  \\\n",
      "158935            0.220624          0.427615                   0     0.755509   \n",
      "27534            -0.021387         -0.246408                   0     0.409593   \n",
      "600497           -0.059508         -0.645074                   0     1.447342   \n",
      "328358           -0.255121          0.320763                   0    -0.455198   \n",
      "1045697          -0.180840          0.659921                   0    -0.628156   \n",
      "\n",
      "         pickup_dayofweek  pickup_month  distance_km  \n",
      "158935          -1.044223      0.274076    -0.657365  \n",
      "27534            0.524179      0.274076    -0.721372  \n",
      "600497           0.524179      1.442274     0.067467  \n",
      "328358          -0.521422     -0.310022    -0.482050  \n",
      "1045697         -1.567024     -0.894121    -0.580135  \n",
      "\n",
      "Processed training target:\n",
      "158935     5.894403\n",
      "27534      5.525453\n",
      "600497     7.115582\n",
      "328358     6.650279\n",
      "1045697    6.194405\n",
      "Name: trip_duration, dtype: float64\n"
     ]
    }
   ],
   "source": [
    "# Show first 5 rows of processed training data\n",
    "print(\"Processed training features:\")\n",
    "print(X_train.head())\n",
    "\n",
    "print(\"\\nProcessed training target:\")\n",
    "print(y_train.head())"
   ]
  },
  {
   "cell_type": "code",
   "execution_count": 29,
   "id": "1ceb758a",
   "metadata": {},
   "outputs": [
    {
     "data": {
      "image/png": "[encoded data removed]",
      "text/plain": [
       "<Figure size 800x500 with 1 Axes>"
      ]
     },
     "metadata": {},
     "output_type": "display_data"
    }
   ],
   "source": [
    "# 1️⃣ Distribution of target variable (trip duration)\n",
    "trip_duration_original = np.expm1(y_train)\n",
    "plt.figure(figsize=(8, 5))\n",
    "sns.histplot(trip_duration_original, bins=50, kde=True, color='teal')\n",
    "plt.title(\"Distribution of Trip Duration (seconds)\")\n",
    "plt.xlabel(\"Trip Duration (s)\")\n",
    "plt.ylabel(\"Frequency\")\n",
    "plt.show()"
   ]
  },
  {
   "cell_type": "code",
   "execution_count": 30,
   "id": "fed1360a",
   "metadata": {},
   "outputs": [
    {
     "data": {
      "image/png": "[encoded data removed]",
      "text/plain": [
       "<Figure size 800x500 with 1 Axes>"
      ]
     },
     "metadata": {},
     "output_type": "display_data"
    }
   ],
   "source": [
    "plt.figure(figsize=(8, 5))\n",
    "sns.histplot(X_train['distance_km'], bins=50, kde=True, color='orange')\n",
    "plt.title(\"Distribution of Trip Distance (km)\")\n",
    "plt.xlabel(\"Distance (km)\")\n",
    "plt.ylabel(\"Frequency\")\n",
    "plt.show()"
   ]
  }
 ],
 "metadata": {
  "kernelspec": {
   "display_name": "pytorch_env",
   "language": "python",
   "name": "python3"
  },
  "language_info": {
   "codemirror_mode": {
    "name": "ipython",
    "version": 3
   },
   "file_extension": ".py",
   "mimetype": "text/x-python",
   "name": "python",
   "nbconvert_exporter": "python",
   "pygments_lexer": "ipython3",
   "version": "3.12.11"
  }
 },
 "nbformat": 4,
 "nbformat_minor": 5
}
